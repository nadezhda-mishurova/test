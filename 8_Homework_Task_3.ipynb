{
 "cells": [
  {
   "cell_type": "markdown",
   "metadata": {},
   "source": [
    "\n",
    "Задание 3\n",
    "\n",
    "Напишите функцию, которая будет возвращать акроним по переданной в нее строке со словами.\n",
    "\n",
    "Примеры работы программы:\n",
    "\n",
    "some_words = 'Информационные технологии' Результат: ИТ\n",
    "\n",
    "some_words = 'Near Field Communication' Результат: NFC\n"
   ]
  },
  {
   "cell_type": "code",
   "execution_count": null,
   "metadata": {},
   "outputs": [],
   "source": [
    "import re\n",
    "\n",
    "def acronym():\n",
    "    some_words = input('Введите текст: ')\n",
    "    result = re.findall(r'(\\w+)+', some_words)\n",
    "    acronym_letters = []\n",
    "    c = ''\n",
    "    for element in result:\n",
    "        acronym_letters.append(element[0])\n",
    "    for letter in acronym_letters:\n",
    "        c += letter\n",
    "    print(c.upper())\n",
    "    \n",
    "acronym()"
   ]
  }
 ],
 "metadata": {
  "kernelspec": {
   "display_name": "Python 3",
   "language": "python",
   "name": "python3"
  },
  "language_info": {
   "codemirror_mode": {
    "name": "ipython",
    "version": 3
   },
   "file_extension": ".py",
   "mimetype": "text/x-python",
   "name": "python",
   "nbconvert_exporter": "python",
   "pygments_lexer": "ipython3",
   "version": "3.8.3"
  }
 },
 "nbformat": 4,
 "nbformat_minor": 4
}
