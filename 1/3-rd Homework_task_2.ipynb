{
 "cells": [
  {
   "cell_type": "markdown",
   "metadata": {},
   "source": [
    "\n",
    "# Задание № 2\n",
    "\n",
    "Дана переменная, в которой хранится список поисковых запросов пользователя (пример структуры данных приведен ниже). Вам необходимо написать программу, которая выведет на экран распределение количества слов в запросах в требуемом виде.\n",
    "\n",
    "Пример работы программы:\n",
    "\n",
    "queries = [ ‘смотреть сериалы онлайн’, ‘новости спорта’, ‘афиша кино’, ‘курс доллара’, ‘сериалы этим летом’, ‘курс по питону’, ‘сериалы про спорт’, ]\n",
    "\n",
    "Результат:\n",
    "\n",
    "Поисковых запросов, содержащих 2 слов(а): 42.86% Поисковых запросов, содержащих 3 слов(а): 57.14%\n"
   ]
  },
  {
   "cell_type": "code",
   "execution_count": 7,
   "metadata": {},
   "outputs": [
    {
     "name": "stdout",
     "output_type": "stream",
     "text": [
      "Поисковых запросов, содержащих 2 слов(а): 42.857142857142854\n",
      "Поисковых запросов, содержащих 3 слов(а): 57.14285714285714\n"
     ]
    }
   ],
   "source": [
    "queries = [ \n",
    "    'смотреть сериалы онлайн', \n",
    "    'новости спорта', \n",
    "    'афиша кино', \n",
    "    'курс доллара', \n",
    "    'сериалы этим летом', \n",
    "    'курс по питону', \n",
    "    'сериалы про спорт' \n",
    "]\n",
    "q_counter = 0\n",
    "q_list = []\n",
    "for i in queries:\n",
    "    queries_list = i.split(',')\n",
    "    for el in queries_list:\n",
    "        word = el.split(' ')\n",
    "        q_list.append(len(word))\n",
    "q = list(set(q_list))\n",
    "for item in q:\n",
    "    q_counter = q_list.count(item)\n",
    "    q_percent = q_counter / len(queries) * 100\n",
    "    print(f\"Поисковых запросов, содержащих {item} слов(а): {q_percent}\")\n"
   ]
  },
  {
   "cell_type": "code",
   "execution_count": null,
   "metadata": {},
   "outputs": [],
   "source": []
  }
 ],
 "metadata": {
  "kernelspec": {
   "display_name": "Python 3",
   "language": "python",
   "name": "python3"
  },
  "language_info": {
   "codemirror_mode": {
    "name": "ipython",
    "version": 3
   },
   "file_extension": ".py",
   "mimetype": "text/x-python",
   "name": "python",
   "nbconvert_exporter": "python",
   "pygments_lexer": "ipython3",
   "version": "3.8.3"
  }
 },
 "nbformat": 4,
 "nbformat_minor": 4
}
